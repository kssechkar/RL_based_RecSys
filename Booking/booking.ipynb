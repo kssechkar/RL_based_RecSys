{
  "cells": [
    {
      "cell_type": "code",
      "execution_count": null,
      "metadata": {},
      "outputs": [],
      "source": [
        "# merge_consec_bookings(initial/BookingMultiDestinations) -> 'processed/my-df-mdt'"
      ]
    },
    {
      "cell_type": "code",
      "execution_count": null,
      "metadata": {},
      "outputs": [],
      "source": [
        "# from Modules.data_processing import set_rewards_toppop\n",
        "\n",
        "\n",
        "# set_rewards_toppop('data/processed/my-df-mdt.csv', save_name='data/processed/my-pop-mdt-buy.csv', pop_ratio=0.05)\n",
        "# set_rewards_toppop('data/processed/test-my-df-mdt.csv', save_name='data/processed/test-my-pop-mdt-buy.csv', pop_ratio=0.05)"
      ]
    },
    {
      "cell_type": "code",
      "execution_count": null,
      "metadata": {},
      "outputs": [],
      "source": [
        "import pandas as pd\n",
        "import tensorflow as tf\n",
        "import os"
      ]
    },
    {
      "cell_type": "code",
      "execution_count": null,
      "metadata": {
        "colab": {
          "base_uri": "https://localhost:8080/"
        },
        "id": "9h1TN5LxjQXL",
        "outputId": "1c8f33bc-e3f7-41ad-9498-9ed19f4b9f55"
      },
      "outputs": [],
      "source": [
        "# from google.colab import drive\n",
        "# drive.mount('/content/drive')"
      ]
    },
    {
      "cell_type": "code",
      "execution_count": null,
      "metadata": {
        "id": "c59nWQFPjU-6"
      },
      "outputs": [],
      "source": [
        "# dat = '/content/drive/MyDrive/BOOKING/'  # for collab\n",
        "dat = 'data/processed/'"
      ]
    },
    {
      "cell_type": "code",
      "execution_count": null,
      "metadata": {
        "id": "78FGjsztgJd6"
      },
      "outputs": [],
      "source": [
        "from Modules.data_processing import preprocess_booking, get_statistics, create_pop_dict"
      ]
    },
    {
      "cell_type": "code",
      "execution_count": null,
      "metadata": {
        "id": "0PzLObOWgJd6"
      },
      "outputs": [],
      "source": [
        "df_train, itm2idx, idx2itm = preprocess_booking(dat + 'my-time-mdt-buy.csv', save_name='sorted_travels.csv')\n",
        "df_test, _, idx2itm  = preprocess_booking(dat + 'test-my-time-mdt-buy.csv', save_name='test_sorted_travels.csv', itm2idx=itm2idx)"
      ]
    },
    {
      "cell_type": "code",
      "execution_count": null,
      "metadata": {
        "id": "kLmMsY972Nno"
      },
      "outputs": [],
      "source": [
        "df = pd.concat([df_train, df_test], ignore_index=True)"
      ]
    },
    {
      "cell_type": "code",
      "execution_count": null,
      "metadata": {
        "id": "uA_OVRBE2Nnp"
      },
      "outputs": [],
      "source": [
        "df = df.sort_values(by=['session_id', 'timestamp'])"
      ]
    },
    {
      "cell_type": "code",
      "execution_count": null,
      "metadata": {},
      "outputs": [],
      "source": [
        "import matplotlib.pyplot as plt\n",
        "\n",
        "\n",
        "plt.hist(df_train.session_id.value_counts())"
      ]
    },
    {
      "cell_type": "code",
      "execution_count": null,
      "metadata": {
        "id": "VzzsYJqo2Nnp"
      },
      "outputs": [],
      "source": [
        "#replay_buf, data_stats = get_statistics(df, df_train, length=10)\n",
        "replay_buf, data_stats = pd.read_pickle(dat + 'replay_buffer.df'), pd.read_pickle(dat + 'data_stats.df')"
      ]
    },
    {
      "cell_type": "code",
      "execution_count": null,
      "metadata": {
        "id": "ORFOueVYmzYT"
      },
      "outputs": [],
      "source": []
    },
    {
      "cell_type": "code",
      "execution_count": null,
      "metadata": {
        "colab": {
          "base_uri": "https://localhost:8080/"
        },
        "id": "L-eBpimrgJd7",
        "outputId": "3aa73726-3a6a-48f6-c7a1-0196cfd60186"
      },
      "outputs": [],
      "source": [
        "#create_pop_dict(data_dir='data/processed/', filename='sorted_travels.csv')"
      ]
    },
    {
      "cell_type": "code",
      "execution_count": null,
      "metadata": {
        "id": "wMmpm0-uo7lN"
      },
      "outputs": [],
      "source": [
        "from Modules.training import train_no_eval, predict_booking_batched"
      ]
    },
    {
      "cell_type": "code",
      "execution_count": null,
      "metadata": {
        "colab": {
          "base_uri": "https://localhost:8080/"
        },
        "id": "beRNWhfjgJd7",
        "outputId": "f7924eb3-4047-4401-fbae-a9ee07ae77a9"
      },
      "outputs": [],
      "source": [
        "arg_dict = {'r_click' : 0.7,\n",
        "            'r_buy' : 1,\n",
        "            'r_negative' : 1,\n",
        "            'hidden_factor' : 64,\n",
        "            'lr' : 0.015,\n",
        "            'lr2' : 0.001,\n",
        "            'epoch' : 20,\n",
        "            'batch_size' : 512,\n",
        "            'neg' : 5,\n",
        "            'discount' : 0.7,\n",
        "            'smooth' : 0.0,\n",
        "            'clip' : 0.0\n",
        "            }\n",
        "losses_sa2c = []\n",
        "SA2C_1, sess_sa2c  = train_no_eval(data_stats, replay_buf, arg_dict=arg_dict, losses=losses_sa2c, configuration='SA2C', sa2c_switch_step=10000, data_dir='.')"
      ]
    },
    {
      "cell_type": "code",
      "execution_count": null,
      "metadata": {
        "id": "9ljVrVFZ-uCU"
      },
      "outputs": [],
      "source": [
        "ground_truth = pd.read_csv(dat + 'ground_truth.csv').drop(['id'], axis=1)\n",
        "ground_truth['city_id'] = ground_truth['city_id'].map(itm2idx)"
      ]
    },
    {
      "cell_type": "code",
      "execution_count": null,
      "metadata": {
        "id": "v22oOLeb509h"
      },
      "outputs": [],
      "source": [
        "predictions = predict_booking_batched(sess_sa2c, SA2C_1, df_test, data_stats)"
      ]
    },
    {
      "cell_type": "code",
      "execution_count": null,
      "metadata": {
        "colab": {
          "base_uri": "https://localhost:8080/",
          "height": 424
        },
        "id": "9iKeaYOVgJd7",
        "outputId": "13909019-7589-4697-cbf9-6ec98440e16a"
      },
      "outputs": [],
      "source": [
        "predictions"
      ]
    },
    {
      "cell_type": "code",
      "execution_count": null,
      "metadata": {
        "id": "Ew9f_HergJd7"
      },
      "outputs": [],
      "source": [
        "def evaluate_accuracy_at(submission,ground_truth, at=4):\n",
        "    '''checks if the true city is within the four recommended cities'''\n",
        "    data = submission.merge(ground_truth,on='utrip_id')\n",
        "\n",
        "    if at==4:\n",
        "      hits = ((data['city_id']==data['city_id_1'])|(data['city_id']==data['city_id_2'])|\n",
        "        (data['city_id']==data['city_id_3'])|(data['city_id']==data['city_id_4']))*1\n",
        "    elif at==10:\n",
        "      hits = ((data['city_id']==data['city_id_1'])|(data['city_id']==data['city_id_2'])|\n",
        "        (data['city_id']==data['city_id_3'])|(data['city_id']==data['city_id_4'])|\n",
        "        (data['city_id']==data['city_id_5'])|(data['city_id']==data['city_id_6'])|\n",
        "        (data['city_id']==data['city_id_7'])|(data['city_id']==data['city_id_8'])|\n",
        "        (data['city_id']==data['city_id_9'])|(data['city_id']==data['city_id_10']))*1\n",
        "    return hits.mean()"
      ]
    },
    {
      "cell_type": "code",
      "execution_count": null,
      "metadata": {
        "colab": {
          "base_uri": "https://localhost:8080/"
        },
        "id": "-c71UQTEgJd7",
        "outputId": "8b845150-b791-4fde-e889-024cebb9a2cc"
      },
      "outputs": [],
      "source": [
        "evaluate_accuracy_at(predictions,ground_truth, at=4)"
      ]
    },
    {
      "cell_type": "code",
      "execution_count": null,
      "metadata": {
        "id": "fyUhOaJdMj1v"
      },
      "outputs": [],
      "source": [
        "topcities = df_train.item_id.value_counts().index[:10]"
      ]
    },
    {
      "cell_type": "code",
      "execution_count": null,
      "metadata": {
        "id": "f8dlYx_sL9br"
      },
      "outputs": [],
      "source": [
        "test_trips = (df_test[['session_id']].drop_duplicates()).reset_index().drop('index', axis=1)\n",
        "cities_prediction = pd.DataFrame([topcities]*test_trips.shape[0]\n",
        "                                 , columns= [f'city_id_{i+1}' for i in range(10)])"
      ]
    },
    {
      "cell_type": "code",
      "execution_count": null,
      "metadata": {
        "id": "i4QXAc2sMJzl"
      },
      "outputs": [],
      "source": [
        "submission = pd.concat([test_trips,cities_prediction], axis =1)"
      ]
    },
    {
      "cell_type": "code",
      "execution_count": null,
      "metadata": {
        "id": "BMyylINLMZ3t"
      },
      "outputs": [],
      "source": [
        "submission = submission.rename({'session_id':'utrip_id'}, axis=1)"
      ]
    },
    {
      "cell_type": "code",
      "execution_count": null,
      "metadata": {
        "colab": {
          "base_uri": "https://localhost:8080/",
          "height": 424
        },
        "id": "jg9SuVRsNE3f",
        "outputId": "d54b9639-16dd-41ba-9339-5e071bb5cb89"
      },
      "outputs": [],
      "source": [
        "submission"
      ]
    },
    {
      "cell_type": "code",
      "execution_count": null,
      "metadata": {
        "colab": {
          "base_uri": "https://localhost:8080/"
        },
        "id": "5vA8M8xOM6tg",
        "outputId": "27afce02-b9ff-4bdb-a0dd-4c8b107b7517"
      },
      "outputs": [],
      "source": [
        "evaluate_accuracy_at(submission, ground_truth, at=4)"
      ]
    }
  ],
  "metadata": {
    "accelerator": "GPU",
    "colab": {
      "gpuType": "T4",
      "provenance": []
    },
    "kernelspec": {
      "display_name": "Python 3",
      "name": "python3"
    },
    "language_info": {
      "codemirror_mode": {
        "name": "ipython",
        "version": 3
      },
      "file_extension": ".py",
      "mimetype": "text/x-python",
      "name": "python",
      "nbconvert_exporter": "python",
      "pygments_lexer": "ipython3",
      "version": "3.9.6"
    }
  },
  "nbformat": 4,
  "nbformat_minor": 0
}
